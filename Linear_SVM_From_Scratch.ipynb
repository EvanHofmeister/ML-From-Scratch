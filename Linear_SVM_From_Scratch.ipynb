{
 "cells": [
  {
   "cell_type": "code",
   "execution_count": 27,
   "metadata": {
    "collapsed": true
   },
   "outputs": [],
   "source": [
    "import numpy as np\n",
    "from matplotlib import pyplot as plt\n",
    "from sklearn import svm\n",
    "from sklearn.datasets.samples_generator import make_blobs\n",
    "from sklearn.model_selection import train_test_split"
   ]
  },
  {
   "cell_type": "markdown",
   "metadata": {},
   "source": [
    "### Initialize data clusters from sklearn and split train, test data"
   ]
  },
  {
   "cell_type": "code",
   "execution_count": 28,
   "metadata": {},
   "outputs": [],
   "source": [
    "X, y = make_blobs(n_samples=120, centers=2,\n",
    "                  random_state=0, cluster_std=0.80)\n",
    "\n",
    "plt.scatter(X[:, 0], X[:, 1], c=y, s=50, cmap='autumn');\n",
    "y = np.where(y == 0, -1, y)\n",
    "\n",
    "X_train, X_test, y_train, y_test = train_test_split(X, y, test_size = .33)"
   ]
  },
  {
   "cell_type": "code",
   "execution_count": 29,
   "metadata": {},
   "outputs": [
    {
     "name": "stdout",
     "output_type": "stream",
     "text": [
      "X (Features): \n",
      " [[ 1.49961323  0.77795603]\n",
      " [ 2.68432989  0.52452838]\n",
      " [ 0.9537243   4.64645282]\n",
      " [ 3.78585628  1.96688602]\n",
      " [ 1.34880003  3.07479238]\n",
      " [-0.04011792  5.07930469]\n",
      " [ 2.9349952   1.42187464]\n",
      " [ 1.62097834  1.2305037 ]\n",
      " [ 1.1372926   0.54740762]\n",
      " [ 0.72702805  4.3487196 ]\n",
      " [ 1.25509524 -0.33815322]\n",
      " [-0.38874607  5.86440764]\n",
      " [ 1.07491911  1.57315404]\n",
      " [ 0.11966798  5.14734871]\n",
      " [ 1.09150494  5.46720613]\n",
      " [ 1.02098199  1.11130436]\n",
      " [ 3.00569136  1.15121775]\n",
      " [ 1.07779975  4.62537882]\n",
      " [ 2.81480417  0.96770465]\n",
      " [ 1.43933466  1.32906301]\n",
      " [ 1.5453179   0.57984621]\n",
      " [ 3.25085516 -0.75832436]\n",
      " [ 0.56762597  3.35928158]\n",
      " [ 0.32575305  2.92276125]\n",
      " [-0.3278886   4.67401313]\n",
      " [ 1.54659066  1.4388103 ]\n",
      " [ 0.86226145  1.24917702]\n",
      " [ 0.4688124   4.01359439]\n",
      " [ 2.56737274 -0.39590118]\n",
      " [ 0.26604148  2.71915015]\n",
      " [ 1.77207239 -0.20229737]\n",
      " [ 3.86271468  0.86385794]\n",
      " [ 0.893695    4.63226613]\n",
      " [ 1.73634081  4.18270156]\n",
      " [ 0.43830172  4.0161448 ]\n",
      " [ 1.91929374  4.15984746]\n",
      " [ 0.13742771  3.16777298]\n",
      " [ 2.5146237   5.48819916]\n",
      " [ 2.48279064  3.22558008]\n",
      " [ 2.17153334  4.13966072]\n",
      " [ 1.51580139  0.92312811]\n",
      " [ 2.04165119  1.20098505]\n",
      " [ 1.10022802  4.60631734]\n",
      " [ 1.01287689  4.15404025]\n",
      " [ 2.79207378  3.14029479]\n",
      " [ 1.5403728  -0.88105886]\n",
      " [ 2.16687183  5.82049867]\n",
      " [ 1.96050262  5.26569121]\n",
      " [ 2.55545268 -0.38398246]\n",
      " [ 1.69084152  0.91164699]\n",
      " [ 1.73407165  4.17977925]\n",
      " [ 1.70714468  2.37707464]\n",
      " [ 0.69794036  4.4288665 ]\n",
      " [ 2.20249345  5.47927434]\n",
      " [-0.3148482   4.1335951 ]\n",
      " [ 0.28728953  5.83183929]\n",
      " [ 1.2774105   3.42426669]\n",
      " [ 0.76186738  4.94575244]\n",
      " [ 1.29971052  0.56962391]\n",
      " [ 1.66781904  3.71005531]\n",
      " [ 0.91601879  0.50300775]\n",
      " [ 1.88779063  3.31592667]\n",
      " [ 0.25989683  4.61330933]\n",
      " [ 2.39627451  1.43919009]\n",
      " [ 1.75992205  0.70616032]\n",
      " [ 1.9765055   0.36688103]\n",
      " [ 2.59310333  1.22363313]\n",
      " [ 0.27963236  3.8407076 ]\n",
      " [ 1.41253979  0.34602384]\n",
      " [ 2.95657626  0.03371845]\n",
      " [ 0.56854833  3.95332789]\n",
      " [ 2.51654017  0.73102466]\n",
      " [ 1.29814339  3.75593925]\n",
      " [ 0.66640862  4.06194513]\n",
      " [ 1.68439074  1.28284884]\n",
      " [ 1.58510026  4.40112734]\n",
      " [ 1.2613632   4.86904586]\n",
      " [ 0.03777135  5.85868428]\n",
      " [ 1.46753357  5.04155266]\n",
      " [ 1.21486062  5.36489604]\n",
      " [ 1.14289006  5.08509856]\n",
      " [ 3.96178334  1.65324725]\n",
      " [ 0.25043139  4.34534364]\n",
      " [ 1.65684156  2.4412893 ]\n",
      " [ 1.02948386  4.54576485]\n",
      " [ 2.67269996  1.55646698]\n",
      " [ 1.45946366  0.23651283]\n",
      " [ 0.04415021  5.02444852]\n",
      " [ 0.64537489  3.70582348]\n",
      " [ 2.03580662  0.30723893]\n",
      " [ 0.9846701   5.73248372]\n",
      " [ 0.65372852  5.28174338]\n",
      " [-1.06612177  4.8266822 ]\n",
      " [ 1.46361712  2.13207534]\n",
      " [-0.02596621  4.92577961]\n",
      " [ 2.18047275  1.08340849]\n",
      " [ 2.78341065  1.15143823]\n",
      " [ 1.94896306  0.65943096]\n",
      " [ 1.11821099  3.98236258]\n",
      " [ 1.29051152  0.62087824]\n",
      " [ 1.33136066  4.57072679]\n",
      " [ 2.47031647  3.52196502]\n",
      " [ 2.47388885  0.76042659]\n",
      " [ 2.79195458  1.15264578]\n",
      " [ 1.32500974  1.79127669]\n",
      " [ 1.57741467  0.70732628]\n",
      " [ 2.2792072   0.81914335]\n",
      " [ 0.82262991  0.94827326]\n",
      " [ 1.17176085  0.93939572]\n",
      " [ 1.22787325  1.44293927]\n",
      " [ 2.37207289  0.02321445]\n",
      " [ 1.13032158  1.52262214]\n",
      " [ 2.74073201  0.37684319]\n",
      " [ 1.00254159  0.52839598]\n",
      " [ 2.02384127 -0.03681114]\n",
      " [ 1.22672424  3.62051074]\n",
      " [ 1.55954253  4.40697366]\n",
      " [ 2.18860632  1.40568881]\n",
      " [ 2.47031725  5.02862305]\n",
      " [ 2.00067424  2.26833784]]\n",
      "y (Label): \n",
      " [ 1  1 -1  1 -1 -1  1  1  1 -1  1 -1  1 -1 -1  1  1 -1  1  1  1  1 -1 -1 -1\n",
      "  1  1 -1  1 -1  1  1 -1 -1 -1 -1 -1 -1 -1 -1  1  1 -1 -1 -1  1 -1 -1  1  1\n",
      " -1  1 -1 -1 -1 -1 -1 -1  1 -1  1 -1 -1  1  1  1  1 -1  1  1 -1  1 -1 -1  1\n",
      " -1 -1 -1 -1 -1 -1  1 -1  1 -1  1  1 -1 -1  1 -1 -1 -1  1 -1  1  1  1 -1  1\n",
      " -1 -1  1  1  1  1  1  1  1  1  1  1  1  1  1 -1 -1  1 -1  1]\n"
     ]
    }
   ],
   "source": [
    "print('X (Features): \\n', X)\n",
    "print('y (Label): \\n', y)"
   ]
  },
  {
   "cell_type": "markdown",
   "metadata": {},
   "source": [
    "### Define Functions "
   ]
  },
  {
   "cell_type": "code",
   "execution_count": 30,
   "metadata": {
    "collapsed": true
   },
   "outputs": [],
   "source": [
    "def linear_SVM(X_train, y_train, X_test, lr, lambda_, epoch_cnt):\n",
    "    w = np.zeros(np.shape(X_train)[1])\n",
    "    errors = []\n",
    "    b = 0\n",
    "\n",
    "    for epoch in range(1,epoch_cnt):\n",
    "#         lr = 1/epoch\n",
    "#         lr = 0.001\n",
    "        error = 0\n",
    "        for i, x in enumerate(X_train):\n",
    "            if y_train[i] * (np.dot(X_train[i], w) - b) < 1:\n",
    "                w -= lr * (2 * lambda_ * w - y_train[i]*X_train[i])\n",
    "                b -= lr * y_train[i]\n",
    "                error = 1\n",
    "            else:\n",
    "                w -= lr * (2*lambda_ * w)\n",
    "        errors.append(error)\n",
    "    \n",
    "    Y_pred = np.dot(X_test, w) - b\n",
    "    Y_pred = np.sign(Y_pred)\n",
    "    \n",
    "#     fig = plt.figure(figsize=(10,5))\n",
    "#     plt.subplot(1,2,1)\n",
    "#     plt.plot(errors, '|')\n",
    "#     plt.ylim(0.0,1.5)\n",
    "#     plt.ylabel('Misclassified')\n",
    "#     plt.show()\n",
    "    \n",
    "    return w, b, Y_pred"
   ]
  },
  {
   "cell_type": "code",
   "execution_count": 31,
   "metadata": {
    "collapsed": true
   },
   "outputs": [],
   "source": [
    "def SVM_error(Y_pred, y_test):\n",
    "    count = 0\n",
    "    len_array = len(Y_pred)\n",
    "    for i in range(len_array):\n",
    "        if Y_pred[i] + y_test[i] != 1:\n",
    "            count+=1\n",
    "    return count/len_array"
   ]
  },
  {
   "cell_type": "markdown",
   "metadata": {},
   "source": [
    "### Plot Hyperplane / boundaries and Train, Test data"
   ]
  },
  {
   "cell_type": "code",
   "execution_count": 33,
   "metadata": {},
   "outputs": [
    {
     "data": {
      "image/png": "[encoded data removed]",
      "text/plain": [
       "<matplotlib.figure.Figure at 0x179a97b44e0>"
      ]
     },
     "metadata": {},
     "output_type": "display_data"
    }
   ],
   "source": [
    "#call SVM function\n",
    "w, b, Y_pred = linear_SVM(X_train, y_train, X_test , 0.001, 0.01,100000)\n",
    "\n",
    "#Create single array to slice from\n",
    "y_ = np.array([y.tolist()])\n",
    "Xy = np.concatenate((X,y_.T), axis=1)\n",
    "Y_pred_ = np.array([Y_pred.tolist()])\n",
    "Xy_pred = np.concatenate((X_test, Y_pred_.T), axis=1)\n",
    "\n",
    "#Error\n",
    "Test_error = SVM_error(Y_pred, y_test)\n",
    "\n",
    "# Hyperplane\n",
    "x_hyp = np.linspace(np.min(X[:,0]),np.max(X[:,0]))\n",
    "y_hyp = (-w[0] * x_hyp + b)/w[1]\n",
    "\n",
    "#Plot \n",
    "fig, ax = plt.subplots()\n",
    "ax.scatter(Xy[np.where(Xy[:,2] == 1)][:,0], Xy[np.where(Xy[:,2] == 1)][:,1], color='green', label = 'X_train == 1')\n",
    "ax.scatter(Xy[np.where(Xy[:,2] == -1)][:,0], Xy[np.where(Xy[:,2] == -1)][:,1], color='blue', label = 'X_train == -1')\n",
    "\n",
    "ax.scatter(Xy_pred[np.where(Xy_pred[:,2] == 1)][:,0], Xy_pred[np.where(Xy_pred[:,2] == 1)][:,1], color='lime', label = 'X_test == 1')\n",
    "ax.scatter(Xy_pred[np.where(Xy_pred[:,2] == -1)][:,0], Xy_pred[np.where(Xy_pred[:,2] == -1)][:,1], color='skyblue', label = 'X_test == -1')\n",
    "\n",
    "ax.plot(x_hyp, y_hyp, color = 'black')\n",
    "ax.plot(x_hyp, y_hyp+1, linestyle='--', color = 'pink')\n",
    "ax.plot(x_hyp, y_hyp-1, linestyle='--', color = 'pink')\n",
    "\n",
    "#Define labels, legend \n",
    "fig.suptitle('Linear SVM: Train and Test classification \\nX_Test classification Error: %0.2f' %(Test_error), fontsize=12)\n",
    "plt.xlabel('feature 1', fontsize=10)\n",
    "plt.ylabel('feature 2', fontsize=10)\n",
    "ax.legend(loc='upper center', bbox_to_anchor=(0.5, -0.15),\n",
    "          ncol=2, fancybox=True, shadow=False)\n",
    "\n",
    "plt.show()"
   ]
  },
  {
   "cell_type": "code",
   "execution_count": null,
   "metadata": {
    "collapsed": true
   },
   "outputs": [],
   "source": []
  }
 ],
 "metadata": {
  "kernelspec": {
   "display_name": "Python 3",
   "language": "python",
   "name": "python3"
  },
  "language_info": {
   "codemirror_mode": {
    "name": "ipython",
    "version": 3
   },
   "file_extension": ".py",
   "mimetype": "text/x-python",
   "name": "python",
   "nbconvert_exporter": "python",
   "pygments_lexer": "ipython3",
   "version": "3.7.4"
  }
 },
 "nbformat": 4,
 "nbformat_minor": 2
}
